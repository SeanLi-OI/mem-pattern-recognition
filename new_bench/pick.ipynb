{
 "cells": [
  {
   "cell_type": "code",
   "execution_count": 2,
   "metadata": {},
   "outputs": [
    {
     "name": "stdout",
     "output_type": "stream",
     "text": [
      "Reading /data/lixiang/mem-pattern-recognition/new_bench/parse.res...\n"
     ]
    },
    {
     "name": "stderr",
     "output_type": "stream",
     "text": [
      "/home/lixiang/.local/lib/python3.6/site-packages/sklearn/utils/validation.py:63: FutureWarning: Arrays of bytes/strings is being converted to decimal numbers if dtype='numeric'. This behavior is deprecated in 0.24 and will be removed in 1.1 (renaming of 0.26). Please convert your data to numeric values explicitly instead.\n",
      "  return f(*args, **kwargs)\n",
      "/home/lixiang/.local/lib/python3.6/site-packages/sklearn/utils/validation.py:63: FutureWarning: Arrays of bytes/strings is being converted to decimal numbers if dtype='numeric'. This behavior is deprecated in 0.24 and will be removed in 1.1 (renaming of 0.26). Please convert your data to numeric values explicitly instead.\n",
      "  return f(*args, **kwargs)\n"
     ]
    },
    {
     "name": "stdout",
     "output_type": "stream",
     "text": [
      "1.1484461921638915\n"
     ]
    },
    {
     "data": {
      "text/plain": [
       "<Figure size 432x288 with 0 Axes>"
      ]
     },
     "metadata": {},
     "output_type": "display_data"
    },
    {
     "ename": "",
     "evalue": "",
     "output_type": "error",
     "traceback": [
      "\u001b[1;31mThe Kernel crashed while executing code in the the current cell or a previous cell. Please review the code in the cell(s) to identify a possible cause of the failure. Click <a href='https://aka.ms/vscodeJupyterKernelCrash'>here</a> for more info. View Jupyter <a href='command:jupyter.viewOutput'>log</a> for further details."
     ]
    }
   ],
   "source": [
    "import os\n",
    "import pandas as pd\n",
    "import networkx as nx\n",
    "import matplotlib.pyplot as plt\n",
    "import math\n",
    "from random import sample, choice\n",
    "from sklearn.cluster import AgglomerativeClustering\n",
    "K=8\n",
    "N=20\n",
    "file=\"parse.res\"\n",
    "# if sys.argc != 1:\n",
    "#     print(\"Usage: ./cluster.py result_file\")\n",
    "#     exit()\n",
    "# file = sys.argv[1]\n",
    "if not os.path.isabs(file):\n",
    "    file = os.path.join(os.getcwd(), file)\n",
    "print(f\"Reading {file}...\")\n",
    "\n",
    "content = open(file)\n",
    "app = []\n",
    "X = []\n",
    "for line in content.readlines():\n",
    "    tmp = line.strip().split(',')\n",
    "    app.append(tmp[0])\n",
    "    tmp=[t[:-1] for t in tmp[1:]]\n",
    "    X.append(tmp)\n",
    "X=X[:N]\n",
    "app=app[:N]\n",
    "\n",
    "\n",
    "def dist(X,Y):\n",
    "    sum=0\n",
    "    for i in range(len(X)):\n",
    "        sum=(float(X[i])-float(Y[i]))*(float(X[i])-float(Y[i]))\n",
    "    return math.sqrt(sum)\n",
    "\n",
    "def BuildGraph(limit):\n",
    "    edges = pd.DataFrame(columns=['sources','targets'])\n",
    "    N=len(X)\n",
    "    for i in range(N):\n",
    "        for j in range(i+1,N):\n",
    "            if dist(X[i],X[j])<=limit:\n",
    "                # print(app[i]+\",\"+app[j])\n",
    "                edges=edges.append({'sources':app[i],'targets':app[j]},ignore_index=True)\n",
    "                edges=edges.append({'sources':app[j],'targets':app[i]},ignore_index=True)\n",
    "    # print(edges)\n",
    "    G=nx.from_pandas_edgelist(edges,source='sources',target='targets')\n",
    "    for ap in app:\n",
    "        if ap not in G.nodes:\n",
    "            G.add_node(ap)\n",
    "    return G\n",
    "\n",
    "\n",
    "def Paint(G,name=\"a\"):\n",
    "    color_map = ['red' if node in ans else 'green' for node in G]\n",
    "    nx.draw(G,with_labels=True,pos=nx.kamada_kawai_layout(G),node_color=color_map)\n",
    "    plt.savefig(f'{name}.png')\n",
    "    plt.clf()\n",
    "\n",
    "def check(limit):\n",
    "    G=BuildGraph(limit)\n",
    "    global ans\n",
    "    ans=nx.maximal_independent_set(G)\n",
    "    Paint(G,\"paint/\"+str(limit))\n",
    "    return len(ans)>=K\n",
    "\n",
    "def check_random(limit):\n",
    "    G=BuildGraph(limit)\n",
    "    global ans\n",
    "    ans=sample(app,K)\n",
    "    Paint(G,\"paint/\"+str(limit)+\"_random\")\n",
    "\n",
    "def check_cluster(limit):\n",
    "    G=BuildGraph(limit)\n",
    "    global ans\n",
    "    ans=[]\n",
    "    clf = AgglomerativeClustering(n_clusters=K)\n",
    "    clf.fit(X, app)\n",
    "    y = clf.fit_predict(X)\n",
    "    for k in range(K):\n",
    "        now_app=[]\n",
    "        for i in range(N):\n",
    "            if y[i]==k:\n",
    "                now_app.append(app[i])\n",
    "        ans.append(choice(now_app))\n",
    "    Paint(G,\"paint/\"+str(limit)+\"_cluster\")\n",
    "\n",
    "check(1.013)\n",
    "check_random(1.013)\n",
    "check_cluster(1.013)\n",
    "exit()\n",
    "\n",
    "T=10\n",
    "Ans=0\n",
    "Offset=0.1\n",
    "L=0\n",
    "R=10000000\n",
    "while L<=R:\n",
    "    M=(L+R)/2.0\n",
    "    if check(M):\n",
    "        Ans=M\n",
    "        L=M+1\n",
    "    else:\n",
    "        R=M-1\n",
    "\n",
    "for t in range(T):\n",
    "    L=0\n",
    "    R=9\n",
    "    now=0\n",
    "    while L<=R:\n",
    "        M=(L+R)/2.0\n",
    "        if check(Ans+Offset*M):\n",
    "            now=M\n",
    "            L=M+1\n",
    "        else:\n",
    "            R=M-1\n",
    "    Ans=Ans+Offset*now\n",
    "    Offset=Offset*0.1\n",
    "\n",
    "print(Ans)\n",
    "G=BuildGraph(Ans)\n",
    "Paint(G)\n"
   ]
  }
 ],
 "metadata": {
  "kernelspec": {
   "display_name": "Python 3.6.8 64-bit",
   "language": "python",
   "name": "python3"
  },
  "language_info": {
   "codemirror_mode": {
    "name": "ipython",
    "version": 3
   },
   "file_extension": ".py",
   "mimetype": "text/x-python",
   "name": "python",
   "nbconvert_exporter": "python",
   "pygments_lexer": "ipython3",
   "version": "3.6.8"
  },
  "orig_nbformat": 4,
  "vscode": {
   "interpreter": {
    "hash": "916dbcbb3f70747c44a77c7bcd40155683ae19c65e1c03b4aa3499c5328201f1"
   }
  }
 },
 "nbformat": 4,
 "nbformat_minor": 2
}
