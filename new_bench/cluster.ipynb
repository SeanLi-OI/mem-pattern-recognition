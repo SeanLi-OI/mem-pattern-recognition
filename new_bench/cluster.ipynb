{
 "cells": [
  {
   "cell_type": "code",
   "execution_count": 6,
   "metadata": {},
   "outputs": [
    {
     "name": "stdout",
     "output_type": "stream",
     "text": [
      "Reading /data/lixiang/mem-pattern-recognition/new_bench/parse.res...\n"
     ]
    },
    {
     "name": "stderr",
     "output_type": "stream",
     "text": [
      "/home/lixiang/.local/lib/python3.6/site-packages/sklearn/utils/validation.py:63: FutureWarning: Arrays of bytes/strings is being converted to decimal numbers if dtype='numeric'. This behavior is deprecated in 0.24 and will be removed in 1.1 (renaming of 0.26). Please convert your data to numeric values explicitly instead.\n",
      "  return f(*args, **kwargs)\n",
      "/home/lixiang/.local/lib/python3.6/site-packages/sklearn/utils/validation.py:63: FutureWarning: Arrays of bytes/strings is being converted to decimal numbers if dtype='numeric'. This behavior is deprecated in 0.24 and will be removed in 1.1 (renaming of 0.26). Please convert your data to numeric values explicitly instead.\n",
      "  return f(*args, **kwargs)\n"
     ]
    },
    {
     "data": {
      "image/png": "[encoded data removed]",
      "text/plain": [
       "<Figure size 432x288 with 1 Axes>"
      ]
     },
     "metadata": {
      "needs_background": "light"
     },
     "output_type": "display_data"
    }
   ],
   "source": [
    "import sys\n",
    "import os\n",
    "from sklearn.decomposition import PCA\n",
    "import matplotlib.pyplot as plt\n",
    "from sklearn.cluster import AgglomerativeClustering\n",
    "col=['ro','go','bo','yo','co','mo','wo','ko']\n",
    "cluster=5\n",
    "dim=2\n",
    "file=\"parse.res\"\n",
    "# if sys.argc != 1:\n",
    "#     print(\"Usage: ./cluster.py result_file\")\n",
    "#     exit()\n",
    "# file = sys.argv[1]\n",
    "if not os.path.isabs(file):\n",
    "    file = os.path.join(os.getcwd(), file)\n",
    "print(f\"Reading {file}...\")\n",
    "\n",
    "content = open(file)\n",
    "app = []\n",
    "X = []\n",
    "for line in content.readlines():\n",
    "    tmp = line.strip().split(',')\n",
    "    app.append(tmp[0])\n",
    "    tmp=[t[:-1] for t in tmp[1:]]\n",
    "    X.append(tmp)\n",
    "\n",
    "\n",
    "clf = AgglomerativeClustering(n_clusters=cluster)\n",
    "clf.fit(X, app)\n",
    "y = clf.fit_predict(X)\n",
    "print(y)\n",
    "\n",
    "pca = PCA(n_components=dim)\n",
    "X_pca = pca.fit_transform(X)\n",
    "\n",
    "if dim is 3:\n",
    "    plt.gca(projection='3d')\n",
    "\n",
    "for i in range(cluster):\n",
    "    if dim is 3:\n",
    "        plt.plot(X_pca[y == i, 0], X_pca[y == i, 1], X_pca[y == i, 2], col[i], label='Bench '+chr(i+ord('A')))\n",
    "    else:\n",
    "        plt.plot(X_pca[y == i, 0], X_pca[y == i, 1], col[i], label='Bench '+chr(i+ord('A')))\n",
    "\n",
    "plt.legend(loc=0)\n",
    "plt.savefig('paint.jpg')"
   ]
  }
 ],
 "metadata": {
  "kernelspec": {
   "display_name": "Python 3.6.8 64-bit",
   "language": "python",
   "name": "python3"
  },
  "language_info": {
   "codemirror_mode": {
    "name": "ipython",
    "version": 3
   },
   "file_extension": ".py",
   "mimetype": "text/x-python",
   "name": "python",
   "nbconvert_exporter": "python",
   "pygments_lexer": "ipython3",
   "version": "3.6.8"
  },
  "orig_nbformat": 4,
  "vscode": {
   "interpreter": {
    "hash": "916dbcbb3f70747c44a77c7bcd40155683ae19c65e1c03b4aa3499c5328201f1"
   }
  }
 },
 "nbformat": 4,
 "nbformat_minor": 2
}
